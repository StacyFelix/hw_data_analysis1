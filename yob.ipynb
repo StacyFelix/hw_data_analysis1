{
 "cells": [
  {
   "cell_type": "code",
   "execution_count": 1,
   "metadata": {},
   "outputs": [
    {
     "name": "stdout",
     "output_type": "stream",
     "text": [
      "                Count\n",
      "Name    Gender       \n",
      "John    M        9655\n",
      "William M        9532\n",
      "Mary    F        7065\n",
      "                Count\n",
      "Name   Gender        \n",
      "James  M       111456\n",
      "John   M       109349\n",
      "Robert M       101118\n",
      "               Count\n",
      "Gender Year         \n",
      "F      1900   299798\n",
      "       1950  1713065\n",
      "       2000  1815295\n",
      "M      1900   150480\n",
      "       1950  1790437\n",
      "       2000  1963202\n"
     ]
    }
   ],
   "source": [
    "import pandas as pd\n",
    "import os\n",
    "pd.set_option('display.max_rows',10)\n",
    "\n",
    "\n",
    "def count_top3(list_years, path_dir):\n",
    "    list_df = []\n",
    "    for year in list_years:\n",
    "        full_path = os.path.join(path_dir,f\"yob{year}.txt\")\n",
    "        df = pd.read_csv(full_path, names=['Name', 'Gender', 'Count'], encoding = 'ISO-8859-1')\n",
    "        list_df.append(df)\n",
    "    return pd.concat(list_df).groupby(['Name', 'Gender']).sum().sort_values('Count', ascending=0).head(3)\n",
    "\n",
    "\n",
    "def count_dynamics(list_years, path_dir):\n",
    "    list_df = []\n",
    "    for year in list_years:\n",
    "        full_path = os.path.join(path_dir,f\"yob{year}.txt\")\n",
    "        df = pd.read_csv(full_path, names=['Name', 'Gender', 'Count'], encoding = 'ISO-8859-1')\n",
    "        df['Year'] = year\n",
    "        list_df.append(df)\n",
    "    return pd.concat(list_df).groupby(['Gender', 'Year']).sum()\n",
    "\n",
    "\n",
    "if __name__ == '__main__':\n",
    "    \n",
    "    path_names = 'E:/НЕТОЛОГИЯ_КУРСЫ/Профессия Питон/2ч Продвинутый PYTHON/++2.5Data_analysis1/hw_data_analysis1/names/'\n",
    "    \n",
    "    print(count_top3([1880], path_names))\n",
    "    print(count_top3([1900, 1950, 2000], path_names))\n",
    "    \n",
    "    print(count_dynamics([1900, 1950, 2000], path_names))\n",
    "    \n",
    "          "
   ]
  },
  {
   "cell_type": "code",
   "execution_count": null,
   "metadata": {},
   "outputs": [],
   "source": []
  }
 ],
 "metadata": {
  "kernelspec": {
   "display_name": "Python 3",
   "language": "python",
   "name": "python3"
  },
  "language_info": {
   "codemirror_mode": {
    "name": "ipython",
    "version": 3
   },
   "file_extension": ".py",
   "mimetype": "text/x-python",
   "name": "python",
   "nbconvert_exporter": "python",
   "pygments_lexer": "ipython3",
   "version": "3.7.3"
  }
 },
 "nbformat": 4,
 "nbformat_minor": 2
}
